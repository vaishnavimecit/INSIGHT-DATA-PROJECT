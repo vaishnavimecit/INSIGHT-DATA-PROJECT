{
 "cells": [
  {
   "cell_type": "code",
   "execution_count": 2,
   "metadata": {},
   "outputs": [],
   "source": [
    "#packages \n",
    "import pandas as pd\n",
    "import numpy as np"
   ]
  },
  {
   "cell_type": "code",
   "execution_count": 5,
   "metadata": {},
   "outputs": [],
   "source": [
    "#load Data File\n",
    "data_file = pd.read_excel('censustract-00-10.xlsx')"
   ]
  },
  {
   "cell_type": "code",
   "execution_count": null,
   "metadata": {},
   "outputs": [],
   "source": [
    "#total population in the CBSA in 2000\n",
    "sumation_2000 = sum(data_file['POP00'])\n",
    "print(sumation_2000)"
   ]
  },
  {
   "cell_type": "code",
   "execution_count": null,
   "metadata": {},
   "outputs": [],
   "source": [
    "#total population in the CBSA in 2010\n",
    "sumation_2010 = sum(data_file['POP10'])\n",
    "sumation_2010"
   ]
  },
  {
   "cell_type": "code",
   "execution_count": 62,
   "metadata": {},
   "outputs": [
    {
     "name": "stdout",
     "output_type": "stream",
     "text": [
      "4222.471379151915\n"
     ]
    }
   ],
   "source": [
    "#average population percent change for census tracts in this Core Based Statistical Area\n",
    "average = np.mean(data_file['POP10'])\n",
    "print(average) "
   ]
  },
  {
   "cell_type": "code",
   "execution_count": null,
   "metadata": {},
   "outputs": [],
   "source": [
    "df = pd.DataFrame(data_file)\n",
    "av_column = df.mean(axis=0)\n"
   ]
  },
  {
   "cell_type": "code",
   "execution_count": null,
   "metadata": {},
   "outputs": [],
   "source": [
    "#Core Based Statistical Area Code (i.e., CBSA09)\n",
    "CBSA09 = data_file['CBSA09']\n",
    "print(CBSA09)"
   ]
  },
  {
   "cell_type": "code",
   "execution_count": null,
   "metadata": {},
   "outputs": [],
   "source": [
    "#Core Based Statistical Area Code Title(i.e., CBSA_T)\n",
    "CBSA_T = data_file['CBSA_T']\n",
    "print(CBSA_T)"
   ]
  },
  {
   "cell_type": "code",
   "execution_count": 64,
   "metadata": {},
   "outputs": [],
   "source": [
    "#total number of census tracts\n",
    "count = data_file['TRACT10'].value_counts()"
   ]
  },
  {
   "cell_type": "code",
   "execution_count": null,
   "metadata": {},
   "outputs": [],
   "source": [
    "#total population in the CSBA in 2000\n",
    "POP00 = data_file['POP00']\n",
    "print(POP00)"
   ]
  },
  {
   "cell_type": "code",
   "execution_count": 54,
   "metadata": {},
   "outputs": [],
   "source": [
    "#total population in the CSBA in 2010\n",
    "POP10 = data_file['POP10']\n",
    "print(POP10)"
   ]
  },
  {
   "cell_type": "code",
   "execution_count": 67,
   "metadata": {},
   "outputs": [
    {
     "name": "stdout",
     "output_type": "stream",
     "text": [
      "           CBSA_T          CBSA_T  TRACT10   POP00   POP10\n",
      "0  Montgomery, AL  Montgomery, AL      NaN  1906.0  1912.0\n",
      "1  Montgomery, AL  Montgomery, AL      NaN  1894.0  2170.0\n",
      "2  Montgomery, AL  Montgomery, AL      NaN  3340.0  3373.0\n"
     ]
    }
   ],
   "source": [
    "#shaping my data structure to save in a file\n",
    "my_data = [CBSA09,CBSA_T,count, POP00, POP10]\n",
    "report = pd.concat(my_data,axis=1)\n",
    "print(report[0:3])"
   ]
  },
  {
   "cell_type": "code",
   "execution_count": 69,
   "metadata": {},
   "outputs": [],
   "source": [
    "#exporting my data to a file\n",
    "report.to_csv('report.csv')"
   ]
  },
  {
   "cell_type": "code",
   "execution_count": 70,
   "metadata": {},
   "outputs": [
    {
     "name": "stdout",
     "output_type": "stream",
     "text": [
      "3.7.6\n"
     ]
    }
   ],
   "source": [
    "from platform import python_version\n",
    "\n",
    "print(python_version())"
   ]
  },
  {
   "cell_type": "code",
   "execution_count": 71,
   "metadata": {},
   "outputs": [
    {
     "name": "stdout",
     "output_type": "stream",
     "text": [
      "Requirement already satisfied: sh in c:\\users\\farah\\anaconda3\\lib\\site-packages (1.14.0)\n",
      "Note: you may need to restart the kernel to use updated packages.\n"
     ]
    }
   ],
   "source": [
    "pip install sh\n"
   ]
  },
  {
   "cell_type": "code",
   "execution_count": 75,
   "metadata": {},
   "outputs": [
    {
     "ename": "SyntaxError",
     "evalue": "invalid syntax (<ipython-input-75-948b85d2cb79>, line 1)",
     "output_type": "error",
     "traceback": [
      "\u001b[1;36m  File \u001b[1;32m\"<ipython-input-75-948b85d2cb79>\"\u001b[1;36m, line \u001b[1;32m1\u001b[0m\n\u001b[1;33m    python3.7 ./src/population.py ./input/censustract-00-10.csv ./output/report.csv\u001b[0m\n\u001b[1;37m            ^\u001b[0m\n\u001b[1;31mSyntaxError\u001b[0m\u001b[1;31m:\u001b[0m invalid syntax\n"
     ]
    }
   ],
   "source": []
  },
  {
   "cell_type": "code",
   "execution_count": null,
   "metadata": {},
   "outputs": [],
   "source": []
  }
 ],
 "metadata": {
  "kernelspec": {
   "display_name": "Python 3",
   "language": "python",
   "name": "python3"
  },
  "language_info": {
   "codemirror_mode": {
    "name": "ipython",
    "version": 3
   },
   "file_extension": ".py",
   "mimetype": "text/x-python",
   "name": "python",
   "nbconvert_exporter": "python",
   "pygments_lexer": "ipython3",
   "version": "3.7.6"
  }
 },
 "nbformat": 4,
 "nbformat_minor": 4
}
